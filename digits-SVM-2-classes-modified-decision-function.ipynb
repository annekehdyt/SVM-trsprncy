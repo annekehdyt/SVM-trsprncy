{
 "cells": [
  {
   "cell_type": "markdown",
   "metadata": {},
   "source": [
    "# Non-Linear SVM using Digits Dataset"
   ]
  },
  {
   "cell_type": "code",
   "execution_count": 1,
   "metadata": {
    "collapsed": true
   },
   "outputs": [],
   "source": [
    "############ Compulsory Standard Library #################\n",
    "import glob\n",
    "import numpy as np\n",
    "import matplotlib.pyplot as plt\n",
    "\n",
    "############ Dataset ###################\n",
    "# from sklearn.datasets import fetch_20newsgroups\n",
    "from sklearn.datasets import load_digits\n",
    "\n",
    "############ Utility Library #################\n",
    "# from prettytable import PrettyTable\n",
    "from termcolor import colored\n",
    "import time\n",
    "# import xlsxwriter\n",
    "# import graphviz\n",
    "\n",
    "############ Sklearn pre-processing Library #################\n",
    "from sklearn.preprocessing import StandardScaler\n",
    "from sklearn.feature_extraction.text import CountVectorizer\n",
    "from sklearn.model_selection import train_test_split, ShuffleSplit\n",
    "from scipy.sparse import csr_matrix\n",
    "from sklearn.metrics import accuracy_score\n",
    "from sklearn.metrics.pairwise import rbf_kernel\n",
    "from sklearn.metrics.pairwise import cosine_similarity\n",
    "from sklearn.metrics.pairwise import linear_kernel\n",
    "\n",
    "############ Sklearn model Library #################\n",
    "from sklearn.linear_model import LogisticRegression\n",
    "from sklearn.tree import DecisionTreeClassifier\n",
    "from sklearn import tree\n",
    "from sklearn.svm import SVC\n",
    "from sklearn.calibration import CalibratedClassifierCV"
   ]
  },
  {
   "cell_type": "code",
   "execution_count": 2,
   "metadata": {
    "collapsed": true
   },
   "outputs": [],
   "source": [
    "def extract_binary_digits(zero_class, one_class, data, target):\n",
    "    data_indices = np.concatenate((np.argwhere(target == zero_class),np.argwhere(target == one_class))).flatten()\n",
    "    X_data = data[data_indices, :]\n",
    "    y_data = target[data_indices]\n",
    "    \n",
    "    if zero_class != 0 and one_class != 1:\n",
    "        for i in range(0,len(y_data)):\n",
    "            if y_data[i] == zero_class:\n",
    "                y_data[i] = 0\n",
    "            else:\n",
    "                y_data[i] = 1\n",
    "    return X_data, y_data"
   ]
  },
  {
   "cell_type": "code",
   "execution_count": 3,
   "metadata": {},
   "outputs": [],
   "source": [
    "def svm_non_linear_predict(clf, X, gamma, top=True, top_k=2, threshold_value=0.1):\n",
    "    rbf_kernel_matrix = rbf_kernel(X, clf.support_vectors_,gamma)\n",
    "    dual_coef_dense_ = np.array(clf.dual_coef_).flatten()\n",
    "    decision_function = np.full(X.shape[0], clf.intercept_)\n",
    "    \n",
    "    ''' Calculate the l*y*K() '''\n",
    "    lambda_y_kernel = np.multiply(dual_coef_dense_, rbf_kernel_matrix)\n",
    "    \n",
    "    '''Sort the k-top support vectors'''\n",
    "    neg_support_vectors_indices = np.argsort(lambda_y_kernel, axis=1)\n",
    "    \n",
    "    '''Calculate the decision function'''\n",
    "    if top==True: \n",
    "        for i in range(0,X.shape[0]):\n",
    "            for j in range(0, top_k):\n",
    "                decision_function[i] = decision_function[i] + lambda_y_kernel[i,neg_support_vectors_indices[i,-(j+1)]] + lambda_y_kernel[i,neg_support_vectors_indices[i,j]]\n",
    "        '''Assign y value'''\n",
    "        y_predict = _predict(decision_function)\n",
    "    else:\n",
    "        \n",
    "        for i in range(0,X.shape[0]):\n",
    "            lambda_y_kernel_instance = lambda_y_kernel[i,:].flatten()\n",
    "            decision_function[i] = decision_function[i] + np.sum(lambda_y_kernel_instance[np.absolute(lambda_y_kernel_instance) > threshold_value])\n",
    "            del lambda_y_kernel_instance\n",
    "        \n",
    "        '''Assign y value'''\n",
    "        y_predict = _predict(decision_function)\n",
    "        \n",
    "    \n",
    "    return y_predict, decision_function, rbf_kernel_matrix, neg_support_vectors_indices"
   ]
  },
  {
   "cell_type": "code",
   "execution_count": 4,
   "metadata": {
    "collapsed": true
   },
   "outputs": [],
   "source": [
    "def _predict(decision_function):\n",
    "    y_predict = np.zeros(len(decision_function))\n",
    "    for i in range(0, len(decision_function)):\n",
    "            if decision_function[i] < 0:\n",
    "                y_predict[i] = 0\n",
    "            else:\n",
    "                y_predict[i] = 1\n",
    "    return y_predict"
   ]
  },
  {
   "cell_type": "markdown",
   "metadata": {},
   "source": [
    "### Loading Dataset"
   ]
  },
  {
   "cell_type": "code",
   "execution_count": 5,
   "metadata": {
    "collapsed": true,
    "scrolled": false
   },
   "outputs": [],
   "source": [
    "digits = load_digits()\n",
    "X_data, y_data = extract_binary_digits(3, 5, digits.data, digits.target)"
   ]
  },
  {
   "cell_type": "markdown",
   "metadata": {},
   "source": [
    "### Split Train and Test Data"
   ]
  },
  {
   "cell_type": "code",
   "execution_count": 6,
   "metadata": {},
   "outputs": [
    {
     "name": "stdout",
     "output_type": "stream",
     "text": [
      "# of Train Data :  (244, 64)\n",
      "# of Test Data :  (121, 64)\n"
     ]
    }
   ],
   "source": [
    "X_train, X_test, y_train, y_test = train_test_split(\n",
    "    X_data, y_data, test_size=0.33, random_state=42)\n",
    "\n",
    "# X_train, X_test, y_train, y_test = train_test_split(\n",
    "#     digits.data, digits.target, test_size=0.33, random_state=42)\n",
    "print('# of Train Data : ', X_train.shape)\n",
    "print('# of Test Data : ', X_test.shape)"
   ]
  },
  {
   "cell_type": "markdown",
   "metadata": {},
   "source": [
    "### Fit data to the Model"
   ]
  },
  {
   "cell_type": "markdown",
   "metadata": {},
   "source": [
    "### Prediction and Decision Function"
   ]
  },
  {
   "cell_type": "code",
   "execution_count": 7,
   "metadata": {
    "scrolled": false
   },
   "outputs": [
    {
     "name": "stdout",
     "output_type": "stream",
     "text": [
      "SVC(C=1.0, cache_size=200, class_weight=None, coef0=0.0,\n",
      "  decision_function_shape='ovr', degree=3, gamma=0.001, kernel='rbf',\n",
      "  max_iter=-1, probability=False, random_state=42, shrinking=True,\n",
      "  tol=0.001, verbose=False)\n",
      "Fit End\n",
      "Accuracy : 0.884297520661\n"
     ]
    }
   ],
   "source": [
    "################ FIT #######################\n",
    "gamma_value = 0.001\n",
    "clf = SVC(kernel='rbf', random_state=42,gamma=gamma_value)\n",
    "clf.fit(X_train, y_train)\n",
    "\n",
    "print(clf)\n",
    "print(\"Fit End\")\n",
    "\n",
    "k = 2\n",
    "y_predict, decision_test, rbf_kernel_matrix, support_vector_sorted = svm_non_linear_predict(clf, X_test, gamma_value, top_k=k)\n",
    "print('Accuracy :', accuracy_score(y_predict, y_test))\n"
   ]
  },
  {
   "cell_type": "markdown",
   "metadata": {},
   "source": [
    "### Accuracy Test"
   ]
  },
  {
   "cell_type": "code",
   "execution_count": 8,
   "metadata": {},
   "outputs": [],
   "source": [
    "def svm_threshold_test():\n",
    "    gamma_value = [0.01, 0.001, 0.0001]\n",
    "    threshold = [0.1, 0.2, 0.3, 0.4, 0.5, 0.6, 0.7, 0.8, 0.9, 1.0]\n",
    "\n",
    "    for i in gamma_value:\n",
    "        clf = SVC(kernel='rbf', random_state=42,gamma=i)\n",
    "        clf.fit(X_train, y_train)\n",
    "        for j in threshold:\n",
    "            y_predict, decision_test, rbf_kernel_matrix, support_vector_sorted = svm_non_linear_predict(clf, X_test, i, top=False, threshold_value=j)\n",
    "            print(accuracy_score(y_predict, y_test))\n",
    "            del y_predict\n",
    "        del clf"
   ]
  },
  {
   "cell_type": "code",
   "execution_count": 9,
   "metadata": {
    "collapsed": true
   },
   "outputs": [],
   "source": [
    "def svm_top_k_test():\n",
    "    gamma_value = [0.01, 0.001, 0.0001]\n",
    "    \n",
    "    for i in gamma_value:\n",
    "        clf = SVC(kernel='rbf', random_state=42,gamma=i)\n",
    "        clf.fit(X_train, y_train)\n",
    "        for k in range(1,11):\n",
    "            y_predict, decision_test, rbf_kernel_matrix, support_vector_sorted = svm_non_linear_predict(clf, X_test, i, top_k=k)\n",
    "            print(accuracy_score(y_predict, y_test))\n",
    "            del y_predict\n",
    "        del clf"
   ]
  },
  {
   "cell_type": "code",
   "execution_count": 10,
   "metadata": {},
   "outputs": [
    {
     "data": {
      "text/plain": [
       "' For accuracy test with given k and threshold '"
      ]
     },
     "execution_count": 10,
     "metadata": {},
     "output_type": "execute_result"
    }
   ],
   "source": [
    "''' For accuracy test with given k and threshold '''\n",
    "\n",
    "# svm_top_k_test()"
   ]
  },
  {
   "cell_type": "markdown",
   "metadata": {},
   "source": [
    "## Evaluation\n",
    "### Calculating Evidence and print the results"
   ]
  },
  {
   "cell_type": "markdown",
   "metadata": {},
   "source": [
    "#### to image transform function"
   ]
  },
  {
   "cell_type": "code",
   "execution_count": 11,
   "metadata": {
    "collapsed": true
   },
   "outputs": [],
   "source": [
    "''' Transform 1D data to 2D for image visualization '''\n",
    "def to_img_transform(data):\n",
    "    img = np.zeros((8,8))\n",
    "    for i in range(0,8):\n",
    "        for j in range(0,8):\n",
    "            img[i, j] = data[j+(i*8)]\n",
    "    return img"
   ]
  },
  {
   "cell_type": "code",
   "execution_count": 12,
   "metadata": {},
   "outputs": [],
   "source": [
    "''' Generate Positive and Negative Evidence Matrices '''\n",
    "X_ev = np.multiply(np.array(clf.dual_coef_).flatten(), rbf_kernel_matrix)\n",
    "pos_ev = X_ev * (X_ev > 0)\n",
    "neg_ev = X_ev * (X_ev < 0)\n",
    "object_pos_ev = np.zeros(X_ev.shape[0])\n",
    "object_neg_ev = np.zeros(X_ev.shape[0])\n",
    "\n",
    "for i in range(0,len(object_pos_ev)):\n",
    "    for j in range(0,k):\n",
    "        object_pos_ev[i] = object_pos_ev[i] + np.sum(pos_ev[i,support_vector_sorted[i,-(j+1)]])\n",
    "        object_neg_ev[i] = object_neg_ev[i] + np.sum(neg_ev[i,support_vector_sorted[i,j]])\n"
   ]
  },
  {
   "cell_type": "markdown",
   "metadata": {
    "collapsed": true
   },
   "source": [
    "## Evaluation"
   ]
  },
  {
   "cell_type": "code",
   "execution_count": 26,
   "metadata": {
    "collapsed": true
   },
   "outputs": [],
   "source": [
    "def print_object_evidence(msg, \n",
    "                          clf, obj_idx,\n",
    "                          decision_test, y_train, y_test, \n",
    "                          kernel_matrix, pos_ev, neg_ev, \n",
    "                          iter_range=1, top_k=1):\n",
    "    dual_coef_flatten = np.array(clf.dual_coef_).flatten()\n",
    "    kernel_obj = np.multiply(dual_coef_flatten, kernel_matrix[obj_idx, :])\n",
    "    pos_list = np.argsort(kernel_obj)[::-1]\n",
    "    neg_list = np.argsort(kernel_obj)\n",
    "    \n",
    "    \n",
    "    print(msg)\n",
    "    y_train[y_train == 0]=-1\n",
    "    \n",
    "    print()\n",
    "    print('Class : ', y_test[obj_idx])\n",
    "    print('Predict Class : ', y_predict[obj_idx])\n",
    "\n",
    "    print('Object ID : ', obj_idx)\n",
    "    print('Decision value provided by the clf :', decision_test[obj_idx])\n",
    "    print('Difference between the original and modified Decision function : ', np.absolute(np.sum(kernel_obj)+clf.intercept_-decision_test[obj_idx]))\n",
    "    print('intercept : ', clf.intercept_)\n",
    "    print('Total Positive SV : ', clf.n_support_[0], ' Total Negative SV : ', clf.n_support_[1])\n",
    "    print()\n",
    "    \n",
    "        \n",
    "    print('Total positive Evidence:', np.sum(pos_ev[obj_idx,pos_list[:top_k]]))\n",
    "    print('Total negative Evidence:', np.sum(neg_ev[obj_idx,neg_list[:top_k]]))\n",
    "    \n",
    "    print()\n",
    "    print(top_k, 'Support Vector that contribute to the positive value')\n",
    "    for i in range(0,top_k):\n",
    "        print(' ', i+1, \n",
    "          'ID :',clf.support_[pos_list[i]], \n",
    "          '\\t Lambda :', dual_coef_flatten[pos_list[i]]*y_train[clf.support_[pos_list[i]]],\n",
    "          '\\t Label : ', y_train[clf.support_[pos_list[i]]],\n",
    "          ' K() :', kernel_matrix[obj_idx, pos_list[i]],\n",
    "          '\\t L*y*K():', kernel_obj[pos_list[i]])\n",
    "    \n",
    "    print()\n",
    "    print(top_k, 'Support Vector that contribute to the negative value')   \n",
    "    for i in range(0,top_k):\n",
    "        print(' ', i+1, \n",
    "          'ID :',clf.support_[neg_list[i]], \n",
    "          '\\t Lambda :', dual_coef_flatten[neg_list[i]]*y_train[clf.support_[neg_list[i]]],\n",
    "          '\\t Label : ', y_train[clf.support_[neg_list[i]]],\n",
    "          ' K() :', kernel_matrix[obj_idx, neg_list[i]],\n",
    "          '\\t L*y*K():', kernel_obj[neg_list[i]])\n",
    "\n",
    "    ''' Print target and support vector image'''\n",
    "    plt.gray()\n",
    "    plt.matshow(to_img_transform(X_test[obj_idx])) \n",
    "    plt.title(msg)\n",
    "    \n",
    "    if top_k == 1:\n",
    "        plt.matshow(to_img_transform(X_train[clf.support_[pos_list[0]]]))\n",
    "        plt.matshow(to_img_transform(X_train[clf.support_[neg_list[0]]]))\n",
    "    else:\n",
    "        f, (pos, neg) = plt.subplots(2, top_k, sharex='col', sharey='row')\n",
    "        for i in range(0,top_k):\n",
    "            pos[i].matshow(to_img_transform(X_train[clf.support_[pos_list[i]]]))\n",
    "            neg[i].matshow(to_img_transform(X_train[clf.support_[neg_list[i]]]))\n",
    "        f.subplots_adjust(hspace=0.3)\n",
    "    \n",
    "    \n",
    "    plt.show()"
   ]
  },
  {
   "cell_type": "markdown",
   "metadata": {},
   "source": [
    "### Randomly select false negative"
   ]
  },
  {
   "cell_type": "code",
   "execution_count": 27,
   "metadata": {},
   "outputs": [
    {
     "name": "stdout",
     "output_type": "stream",
     "text": [
      "RBF\n",
      "Randomly selected False Negative\n",
      "\n",
      "Class :  1\n",
      "Predict Class :  0.0\n",
      "Object ID :  5\n",
      "Decision value provided by the clf : -0.0642402031086\n",
      "Difference between the original and modified Decision function :  [ 0.36158994]\n",
      "intercept :  [ 0.03036542]\n",
      "Total Positive SV :  33  Total Negative SV :  42\n",
      "\n",
      "Total positive Evidence: 0.686370510344\n",
      "Total negative Evidence: -0.780976134279\n",
      "\n",
      "2 Support Vector that contribute to the positive value\n",
      "  1 ID : 223 \t Lambda : 1.0 \t Label :  1  K() : 0.345072755043 \t L*y*K(): 0.345072755043\n",
      "  2 ID : 23 \t Lambda : 1.0 \t Label :  1  K() : 0.341297755301 \t L*y*K(): 0.341297755301\n",
      "\n",
      "2 Support Vector that contribute to the negative value\n",
      "  1 ID : 146 \t Lambda : 1.0 \t Label :  -1  K() : 0.513246008513 \t L*y*K(): -0.513246008513\n",
      "  2 ID : 25 \t Lambda : 0.760502561402 \t Label :  -1  K() : 0.352043687102 \t L*y*K(): -0.267730125767\n"
     ]
    },
    {
     "data": {
      "text/plain": [
       "<matplotlib.figure.Figure at 0x1d6b3365908>"
      ]
     },
     "metadata": {},
     "output_type": "display_data"
    },
    {
     "data": {
      "image/png": "[encoded data removed]",
      "text/plain": [
       "<matplotlib.figure.Figure at 0x1d6b1eecb38>"
      ]
     },
     "metadata": {},
     "output_type": "display_data"
    },
    {
     "data": {
      "image/png": "[encoded data removed]",
      "text/plain": [
       "<matplotlib.figure.Figure at 0x1d6b3b91e10>"
      ]
     },
     "metadata": {},
     "output_type": "display_data"
    }
   ],
   "source": [
    "print('RBF')\n",
    "obj = np.argwhere(y_test != y_predict).flatten()\n",
    "print_object_evidence('Randomly selected False Negative', \n",
    "                      clf, obj[0], \n",
    "                      decision_test, y_train, y_test, rbf_kernel_matrix, \n",
    "                      pos_ev, neg_ev, top_k=k)"
   ]
  },
  {
   "cell_type": "markdown",
   "metadata": {},
   "source": [
    "### The most positive object with respect to the decision_function\n",
    "\n",
    "The support vector ID w.r.t to the original ID in the training dataset"
   ]
  },
  {
   "cell_type": "code",
   "execution_count": 28,
   "metadata": {},
   "outputs": [
    {
     "name": "stdout",
     "output_type": "stream",
     "text": [
      "RBF\n",
      "Most Positive Object w.r.t Decision Function\n",
      "\n",
      "Class :  1\n",
      "Predict Class :  1.0\n",
      "Object ID :  109\n",
      "Decision value provided by the clf : 0.635576642594\n",
      "Difference between the original and modified Decision function :  [ 0.18895413]\n",
      "intercept :  [ 0.03036542]\n",
      "Total Positive SV :  33  Total Negative SV :  42\n",
      "\n",
      "Total positive Evidence: 1.00698276759\n",
      "Total negative Evidence: -0.401771545822\n",
      "\n",
      "2 Support Vector that contribute to the positive value\n",
      "  1 ID : 234 \t Lambda : 0.680270703938 \t Label :  1  K() : 0.805735301873 \t L*y*K(): 0.548118120993\n",
      "  2 ID : 222 \t Lambda : 1.0 \t Label :  1  K() : 0.458864646596 \t L*y*K(): 0.458864646596\n",
      "\n",
      "2 Support Vector that contribute to the negative value\n",
      "  1 ID : 146 \t Lambda : 1.0 \t Label :  -1  K() : 0.243899261901 \t L*y*K(): -0.243899261901\n",
      "  2 ID : 110 \t Lambda : 0.605337634873 \t Label :  -1  K() : 0.260800377881 \t L*y*K(): -0.15787228392\n"
     ]
    },
    {
     "data": {
      "text/plain": [
       "<matplotlib.figure.Figure at 0x1d6b3b58550>"
      ]
     },
     "metadata": {},
     "output_type": "display_data"
    },
    {
     "data": {
      "image/png": "[encoded data removed]",
      "text/plain": [
       "<matplotlib.figure.Figure at 0x1d6b3a313c8>"
      ]
     },
     "metadata": {},
     "output_type": "display_data"
    },
    {
     "data": {
      "image/png": "[encoded data removed]",
      "text/plain": [
       "<matplotlib.figure.Figure at 0x1d6b200f940>"
      ]
     },
     "metadata": {},
     "output_type": "display_data"
    }
   ],
   "source": [
    "print('RBF')\n",
    "pos_obj_idx = np.argmax(decision_test)\n",
    "print_object_evidence('Most Positive Object w.r.t Decision Function', \n",
    "                      clf, pos_obj_idx,  \n",
    "                      decision_test, y_train, y_test, rbf_kernel_matrix, \n",
    "                      pos_ev, neg_ev, top_k=k)"
   ]
  },
  {
   "cell_type": "markdown",
   "metadata": {},
   "source": [
    "### The most negative object with respect to the decision_function"
   ]
  },
  {
   "cell_type": "code",
   "execution_count": 29,
   "metadata": {},
   "outputs": [
    {
     "name": "stdout",
     "output_type": "stream",
     "text": [
      "Cosine Similarity\n",
      "Most Negative Object w.r.t Decision Function\n",
      "\n",
      "Class :  0\n",
      "Predict Class :  0.0\n",
      "Object ID :  49\n",
      "Decision value provided by the clf : -0.371917396297\n",
      "Difference between the original and modified Decision function :  [ 0.35590786]\n",
      "intercept :  [ 0.03036542]\n",
      "Total Positive SV :  33  Total Negative SV :  42\n",
      "\n",
      "Total positive Evidence: 0.69667476369\n",
      "Total negative Evidence: -1.09895758081\n",
      "\n",
      "2 Support Vector that contribute to the positive value\n",
      "  1 ID : 222 \t Lambda : 1.0 \t Label :  1  K() : 0.435613454987 \t L*y*K(): 0.435613454987\n",
      "  2 ID : 23 \t Lambda : 1.0 \t Label :  1  K() : 0.261061308703 \t L*y*K(): 0.261061308703\n",
      "\n",
      "2 Support Vector that contribute to the negative value\n",
      "  1 ID : 146 \t Lambda : 1.0 \t Label :  -1  K() : 0.737123374392 \t L*y*K(): -0.737123374392\n",
      "  2 ID : 194 \t Lambda : 0.859358442365 \t Label :  -1  K() : 0.421051552627 \t L*y*K(): -0.361834206421\n"
     ]
    },
    {
     "data": {
      "text/plain": [
       "<matplotlib.figure.Figure at 0x1d6b32e9748>"
      ]
     },
     "metadata": {},
     "output_type": "display_data"
    },
    {
     "data": {
      "image/png": "[encoded data removed]",
      "text/plain": [
       "<matplotlib.figure.Figure at 0x1d6b32f8710>"
      ]
     },
     "metadata": {},
     "output_type": "display_data"
    },
    {
     "data": {
      "image/png": "[encoded data removed]",
      "text/plain": [
       "<matplotlib.figure.Figure at 0x1d6b3127710>"
      ]
     },
     "metadata": {},
     "output_type": "display_data"
    }
   ],
   "source": [
    "print('Cosine Similarity')\n",
    "\n",
    "neg_obj_idx = np.argmin(decision_test)\n",
    "print_object_evidence('Most Negative Object w.r.t Decision Function', \n",
    "                      clf, neg_obj_idx,  \n",
    "                      decision_test, y_train, y_test, rbf_kernel_matrix,\n",
    "                      pos_ev, neg_ev, top_k=k)"
   ]
  },
  {
   "cell_type": "markdown",
   "metadata": {},
   "source": [
    "### Least Confidence Object"
   ]
  },
  {
   "cell_type": "code",
   "execution_count": 17,
   "metadata": {},
   "outputs": [
    {
     "name": "stdout",
     "output_type": "stream",
     "text": [
      "Cosine Similarity\n",
      "Least Confidence Object w.r.t Decision Function\n",
      "\n",
      "Class :  0\n",
      "Predict Class :  0.0\n",
      "Object ID :  92\n",
      "Decision value provided by the clf : -0.000393951008195\n",
      "Difference between the original and modified Decision function :  [ 1.33988542]\n",
      "intercept :  [ 0.03036542]\n",
      "Total Positive SV :  33  Total Negative SV :  42\n",
      "\n",
      "Total positive Evidence: 0.572725316609\n",
      "Total negative Evidence: -0.603484688444\n",
      "\n",
      "1 Support Vector that contribute to the positive value\n",
      "  1 ID : 222 \t Lambda : 1.0 \t Label :  1  K() : 0.376062472172 \t L*y*K(): 0.376062472172\n",
      "  2 ID : 234 \t Lambda : 0.680270703938 \t Label :  1  K() : 0.289094978365 \t L*y*K(): 0.196662844437\n",
      "\n",
      "1 Support Vector that contribute to the negative value\n",
      "  1 ID : 146 \t Lambda : 1.0 \t Label :  -1  K() : 0.303613429576 \t L*y*K(): -0.303613429576\n",
      "  2 ID : 186 \t Lambda : 0.509970685903 \t Label :  -1  K() : 0.588016658913 \t L*y*K(): -0.299871258868\n"
     ]
    },
    {
     "data": {
      "text/plain": [
       "<matplotlib.figure.Figure at 0x1d6b3919780>"
      ]
     },
     "metadata": {},
     "output_type": "display_data"
    },
    {
     "data": {
      "image/png": "[encoded data removed]",
      "text/plain": [
       "<matplotlib.figure.Figure at 0x1d6b3951ef0>"
      ]
     },
     "metadata": {},
     "output_type": "display_data"
    },
    {
     "data": {
      "image/png": "[encoded data removed]",
      "text/plain": [
       "<matplotlib.figure.Figure at 0x1d6b3a394a8>"
      ]
     },
     "metadata": {},
     "output_type": "display_data"
    }
   ],
   "source": [
    "print('Cosine Similarity')\n",
    "\n",
    "least_conf_obj_idx = np.argmin(np.absolute(decision_test))\n",
    "print_object_evidence('Least Confidence Object w.r.t Decision Function', \n",
    "                      clf, least_conf_obj_idx, \n",
    "                      decision_test, y_train, y_test, rbf_kernel_matrix,\n",
    "                     pos_ev, neg_ev, top_k=k)"
   ]
  },
  {
   "cell_type": "markdown",
   "metadata": {},
   "source": [
    "### The most positive object w.r.t the positive evidence"
   ]
  },
  {
   "cell_type": "code",
   "execution_count": 30,
   "metadata": {},
   "outputs": [
    {
     "name": "stdout",
     "output_type": "stream",
     "text": [
      "Cosine Similarity\n",
      "Most Positive Object w.r.t Positive Evidence\n",
      "\n",
      "Class :  1\n",
      "Predict Class :  1.0\n",
      "Object ID :  95\n",
      "Decision value provided by the clf : 0.572606472036\n",
      "Difference between the original and modified Decision function :  [ 0.56414715]\n",
      "intercept :  [ 0.03036542]\n",
      "Total Positive SV :  33  Total Negative SV :  42\n",
      "\n",
      "Total positive Evidence: 1.08588257322\n",
      "Total negative Evidence: -0.543641522012\n",
      "\n",
      "2 Support Vector that contribute to the positive value\n",
      "  1 ID : 23 \t Lambda : 1.0 \t Label :  1  K() : 0.692117181689 \t L*y*K(): 0.692117181689\n",
      "  2 ID : 66 \t Lambda : 1.0 \t Label :  1  K() : 0.393765391532 \t L*y*K(): 0.393765391532\n",
      "\n",
      "2 Support Vector that contribute to the negative value\n",
      "  1 ID : 146 \t Lambda : 1.0 \t Label :  -1  K() : 0.282521676603 \t L*y*K(): -0.282521676603\n",
      "  2 ID : 25 \t Lambda : 0.760502561402 \t Label :  -1  K() : 0.343351697498 \t L*y*K(): -0.261119845409\n"
     ]
    },
    {
     "data": {
      "text/plain": [
       "<matplotlib.figure.Figure at 0x1d6b1ee8a58>"
      ]
     },
     "metadata": {},
     "output_type": "display_data"
    },
    {
     "data": {
      "image/png": "[encoded data removed]",
      "text/plain": [
       "<matplotlib.figure.Figure at 0x1d6b3be42b0>"
      ]
     },
     "metadata": {},
     "output_type": "display_data"
    },
    {
     "data": {
      "image/png": "[encoded data removed]",
      "text/plain": [
       "<matplotlib.figure.Figure at 0x1d6b3a95208>"
      ]
     },
     "metadata": {},
     "output_type": "display_data"
    }
   ],
   "source": [
    "print('Cosine Similarity')\n",
    "pos_ev_obj_idx = np.argmax(object_pos_ev)\n",
    "print_object_evidence('Most Positive Object w.r.t Positive Evidence', \n",
    "                      clf, pos_ev_obj_idx, \n",
    "                      decision_test, y_train, y_test, rbf_kernel_matrix,\n",
    "                      pos_ev, neg_ev, top_k=k)"
   ]
  },
  {
   "cell_type": "markdown",
   "metadata": {},
   "source": [
    "### The most negative object w.r.t the negative evidence"
   ]
  },
  {
   "cell_type": "code",
   "execution_count": 31,
   "metadata": {
    "scrolled": false
   },
   "outputs": [
    {
     "name": "stdout",
     "output_type": "stream",
     "text": [
      "Cosine Similarity\n",
      "Most Negative Object w.r.t Negative Evidence\n",
      "\n",
      "Class :  0\n",
      "Predict Class :  0.0\n",
      "Object ID :  49\n",
      "Decision value provided by the clf : -0.371917396297\n",
      "Difference between the original and modified Decision function :  [ 0.35590786]\n",
      "intercept :  [ 0.03036542]\n",
      "Total Positive SV :  33  Total Negative SV :  42\n",
      "\n",
      "Total positive Evidence: 0.69667476369\n",
      "Total negative Evidence: -1.09895758081\n",
      "\n",
      "2 Support Vector that contribute to the positive value\n",
      "  1 ID : 222 \t Lambda : 1.0 \t Label :  1  K() : 0.435613454987 \t L*y*K(): 0.435613454987\n",
      "  2 ID : 23 \t Lambda : 1.0 \t Label :  1  K() : 0.261061308703 \t L*y*K(): 0.261061308703\n",
      "\n",
      "2 Support Vector that contribute to the negative value\n",
      "  1 ID : 146 \t Lambda : 1.0 \t Label :  -1  K() : 0.737123374392 \t L*y*K(): -0.737123374392\n",
      "  2 ID : 194 \t Lambda : 0.859358442365 \t Label :  -1  K() : 0.421051552627 \t L*y*K(): -0.361834206421\n"
     ]
    },
    {
     "data": {
      "text/plain": [
       "<matplotlib.figure.Figure at 0x1d6b1ffd2b0>"
      ]
     },
     "metadata": {},
     "output_type": "display_data"
    },
    {
     "data": {
      "image/png": "[encoded data removed]",
      "text/plain": [
       "<matplotlib.figure.Figure at 0x1d6b3a36198>"
      ]
     },
     "metadata": {},
     "output_type": "display_data"
    },
    {
     "data": {
      "image/png": "[encoded data removed]",
      "text/plain": [
       "<matplotlib.figure.Figure at 0x1d6b2045828>"
      ]
     },
     "metadata": {},
     "output_type": "display_data"
    }
   ],
   "source": [
    "print('Cosine Similarity')\n",
    "neg_ev_obj_idx = np.argmin(object_neg_ev)\n",
    "print_object_evidence('Most Negative Object w.r.t Negative Evidence', \n",
    "                      clf, neg_ev_obj_idx,  \n",
    "                      decision_test, y_train, y_test, rbf_kernel_matrix,\n",
    "                     pos_ev, neg_ev, top_k=k)"
   ]
  },
  {
   "cell_type": "markdown",
   "metadata": {},
   "source": [
    "### Subset of Total Evidence"
   ]
  },
  {
   "cell_type": "code",
   "execution_count": 20,
   "metadata": {},
   "outputs": [
    {
     "name": "stdout",
     "output_type": "stream",
     "text": [
      "\n",
      "121\n",
      "25\n",
      "96\n",
      "\n",
      "(25,)\n",
      "(25,)\n",
      "\n",
      "41\n"
     ]
    }
   ],
   "source": [
    "total_evidence = object_neg_ev + object_pos_ev\n",
    "n_samples = total_evidence.shape[0]\n",
    "total_ev_indices_ = np.argsort(total_evidence)[::-1]\n",
    "\n",
    "# print(np.sum(total_evidence > 0))\n",
    "# print(np.sum(total_evidence < 0))\n",
    "print()\n",
    "print(n_samples)\n",
    "upper_threshold = np.int_(np.ceil(n_samples * 0.2))\n",
    "print(upper_threshold)\n",
    "\n",
    "lower_threshold = np.int_(np.floor(n_samples * 0.8))\n",
    "print(lower_threshold)\n",
    "\n",
    "print()\n",
    "upper_subset = total_ev_indices_[:upper_threshold]\n",
    "lower_subset = total_ev_indices_[lower_threshold:]\n",
    "print(upper_subset.shape)\n",
    "print(lower_subset.shape)\n",
    "print()\n",
    "\n",
    "min_neg_ev_in_pos_S = np.argmin(np.absolute(object_neg_ev[upper_subset]))\n",
    "min_pos_ev_in_neg_S = np.argmin(object_pos_ev[lower_subset])\n",
    "\n",
    "print(upper_subset[min_neg_ev_in_pos_S])\n",
    "# for i in range(0,upper_subset.shape[0]):\n",
    "#     print(decision_test[upper_subset[i]])"
   ]
  },
  {
   "cell_type": "code",
   "execution_count": 21,
   "metadata": {},
   "outputs": [
    {
     "name": "stdout",
     "output_type": "stream",
     "text": [
      "Cosine Similarity\n",
      "Positive Object which contains Minimum Negative Evidence (abs)\n",
      "\n",
      "Class :  1\n",
      "Predict Class :  1.0\n",
      "Object ID :  41\n",
      "Decision value provided by the clf : 0.296122842174\n",
      "Difference between the original and modified Decision function :  [ 0.60362202]\n",
      "intercept :  [ 0.03036542]\n",
      "Total Positive SV :  33  Total Negative SV :  42\n",
      "\n",
      "Total positive Evidence: 0.402041497714\n",
      "Total negative Evidence: -0.136284076366\n",
      "\n",
      "1 Support Vector that contribute to the positive value\n",
      "  1 ID : 225 \t Lambda : 0.393675867856 \t Label :  1  K() : 0.578683258684 \t L*y*K(): 0.227813634076\n",
      "  2 ID : 47 \t Lambda : 0.648306775704 \t Label :  1  K() : 0.268742931844 \t L*y*K(): 0.174227863637\n",
      "\n",
      "1 Support Vector that contribute to the negative value\n",
      "  1 ID : 107 \t Lambda : 0.816270222211 \t Label :  -1  K() : 0.0891887828595 \t L*y*K(): -0.0728021476035\n",
      "  2 ID : 79 \t Lambda : 1.0 \t Label :  -1  K() : 0.0634819287627 \t L*y*K(): -0.0634819287627\n"
     ]
    },
    {
     "data": {
      "text/plain": [
       "<matplotlib.figure.Figure at 0x1d6b381d400>"
      ]
     },
     "metadata": {},
     "output_type": "display_data"
    },
    {
     "data": {
      "image/png": "[encoded data removed]",
      "text/plain": [
       "<matplotlib.figure.Figure at 0x1d6b39d1208>"
      ]
     },
     "metadata": {},
     "output_type": "display_data"
    },
    {
     "data": {
      "image/png": "[encoded data removed]",
      "text/plain": [
       "<matplotlib.figure.Figure at 0x1d6b38e8ef0>"
      ]
     },
     "metadata": {},
     "output_type": "display_data"
    }
   ],
   "source": [
    "print('Cosine Similarity')\n",
    "print_object_evidence('Positive Object which contains Minimum Negative Evidence (abs)', \n",
    "                      clf, upper_subset[min_neg_ev_in_pos_S],  \n",
    "                      decision_test, y_train, y_test, rbf_kernel_matrix,\n",
    "                     pos_ev, neg_ev, top_k=k)"
   ]
  },
  {
   "cell_type": "code",
   "execution_count": 22,
   "metadata": {},
   "outputs": [
    {
     "name": "stdout",
     "output_type": "stream",
     "text": [
      "Cosine Similarity\n",
      "Negative Object which contains Minimum Positive Evidence\n",
      "\n",
      "Class :  0\n",
      "Predict Class :  0.0\n",
      "Object ID :  2\n",
      "Decision value provided by the clf : -0.233468131778\n",
      "Difference between the original and modified Decision function :  [ 0.94159004]\n",
      "intercept :  [ 0.03036542]\n",
      "Total Positive SV :  33  Total Negative SV :  42\n",
      "\n",
      "Total positive Evidence: 0.319332049576\n",
      "Total negative Evidence: -0.583165602181\n",
      "\n",
      "1 Support Vector that contribute to the positive value\n",
      "  1 ID : 23 \t Lambda : 1.0 \t Label :  1  K() : 0.169314050763 \t L*y*K(): 0.169314050763\n",
      "  2 ID : 223 \t Lambda : 1.0 \t Label :  1  K() : 0.150017998813 \t L*y*K(): 0.150017998813\n",
      "\n",
      "1 Support Vector that contribute to the negative value\n",
      "  1 ID : 79 \t Lambda : 1.0 \t Label :  -1  K() : 0.362040208543 \t L*y*K(): -0.362040208543\n",
      "  2 ID : 197 \t Lambda : 0.392575915041 \t Label :  -1  K() : 0.563267855122 \t L*y*K(): -0.221125393638\n"
     ]
    },
    {
     "data": {
      "text/plain": [
       "<matplotlib.figure.Figure at 0x1d6b2081278>"
      ]
     },
     "metadata": {},
     "output_type": "display_data"
    },
    {
     "data": {
      "image/png": "[encoded data removed]",
      "text/plain": [
       "<matplotlib.figure.Figure at 0x1d6b20c7198>"
      ]
     },
     "metadata": {},
     "output_type": "display_data"
    },
    {
     "data": {
      "image/png": "[encoded data removed]",
      "text/plain": [
       "<matplotlib.figure.Figure at 0x1d6b399e198>"
      ]
     },
     "metadata": {},
     "output_type": "display_data"
    }
   ],
   "source": [
    "print('Cosine Similarity')\n",
    "print_object_evidence('Negative Object which contains Minimum Positive Evidence', \n",
    "                      clf, lower_subset[min_pos_ev_in_neg_S],  \n",
    "                      decision_test, y_train, y_test, rbf_kernel_matrix,\n",
    "                     pos_ev, neg_ev, top_k=k)\n"
   ]
  }
 ],
 "metadata": {
  "kernelspec": {
   "display_name": "Python 3",
   "language": "python",
   "name": "python3"
  },
  "language_info": {
   "codemirror_mode": {
    "name": "ipython",
    "version": 3
   },
   "file_extension": ".py",
   "mimetype": "text/x-python",
   "name": "python",
   "nbconvert_exporter": "python",
   "pygments_lexer": "ipython3",
   "version": "3.6.3"
  }
 },
 "nbformat": 4,
 "nbformat_minor": 2
}
